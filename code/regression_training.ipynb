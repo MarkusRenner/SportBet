{
 "cells": [
  {
   "cell_type": "markdown",
   "metadata": {},
   "source": [
    "### Requirements"
   ]
  },
  {
   "cell_type": "code",
   "execution_count": 3,
   "metadata": {},
   "outputs": [],
   "source": [
    "# pip install -U scikit-learn"
   ]
  },
  {
   "cell_type": "markdown",
   "metadata": {},
   "source": [
    "# Regression training"
   ]
  },
  {
   "cell_type": "markdown",
   "metadata": {},
   "source": [
    "### Import"
   ]
  },
  {
   "cell_type": "code",
   "execution_count": 4,
   "metadata": {},
   "outputs": [],
   "source": [
    "import os\n",
    "import pandas as pd"
   ]
  },
  {
   "cell_type": "markdown",
   "metadata": {},
   "source": [
    "### Load preprocessed csv into pandas dataframe\n"
   ]
  },
  {
   "cell_type": "code",
   "execution_count": null,
   "metadata": {},
   "outputs": [
    {
     "name": "stdout",
     "output_type": "stream",
     "text": [
      "csv: c:\\Users\\Markus\\Documents\\Git\\GitHub\\SportBet\\data\\preprocessed_nba_game_log.csv\n",
      "nba_df: (28236, 41)\n",
      "Index(['Season', 'Team', 'Game_of_Season', 'Date', 'Home', 'Opponent',\n",
      "       'Win_Loss', 'Team_Points', 'Opponent_Points', 'Team_Field_Goals',\n",
      "       'Team_Field_Goals_Attempts', 'Team_Field_Goals_Percentage',\n",
      "       'Team_3_Pointers', 'Team_3_Pointers_Attempts',\n",
      "       'Team_3_Pointers_Percentage', 'Team_Free_Throws',\n",
      "       'Team_Free_Throws_Attempts', 'Team_Free_Throws_Percentage',\n",
      "       'Team_Offensive_Rebounds', 'Team_Total_Rebounds', 'Team_Assists',\n",
      "       'Team_Steals', 'Team_Blocks', 'Team_Turnovers', 'Team_Personal_Fouls',\n",
      "       'Opponent_Field_Goals', 'Opponent_Field_Goals_Attempts',\n",
      "       'Opponent_Field_Goals_Percentage', 'Opponent_3_Pointers',\n",
      "       'Opponent_3_Pointers_Attempts', 'Opponent_3_Pointers_Percentage',\n",
      "       'Opponent_Free_Throws', 'Opponent_Free_Throws_Attempts',\n",
      "       'Opponent_Free_Throws_Percentage', 'Opponent_Offensive_Rebounds',\n",
      "       'Opponent_Total_Rebounds', 'Opponent_Assists', 'Opponent_Steals',\n",
      "       'Opponent_Blocks', 'Opponent_Turnovers', 'Opponent_Personal_Fouls'],\n",
      "      dtype='object')\n"
     ]
    }
   ],
   "source": [
    "# Get the current working directory\n",
    "cwd = os.getcwd()\n",
    "\n",
    "# Get the parent directory\n",
    "parent_dir = os.path.dirname(cwd)\n",
    "\n",
    "# Join data file path\n",
    "data_file_path = os.path.join(parent_dir, 'data')\n",
    "\n",
    "# Define the full file path for the target CSV\n",
    "csv_file_path = os.path.join(data_file_path, 'preprocessed_nba_game_log.csv')\n",
    "print(f\"csv: {csv_file_path}\")\n",
    "\n",
    "# Read the CSV file\n",
    "nba_df = pd.read_csv(csv_file_path)\n",
    "\n",
    "# Display the combined DataFrame\n",
    "print(f'nba_df: {nba_df.shape}')\n",
    "print(nba_df.columns)"
   ]
  }
 ],
 "metadata": {
  "kernelspec": {
   "display_name": "SportBet",
   "language": "python",
   "name": "python3"
  },
  "language_info": {
   "codemirror_mode": {
    "name": "ipython",
    "version": 3
   },
   "file_extension": ".py",
   "mimetype": "text/x-python",
   "name": "python",
   "nbconvert_exporter": "python",
   "pygments_lexer": "ipython3",
   "version": "3.10.16"
  }
 },
 "nbformat": 4,
 "nbformat_minor": 2
}
