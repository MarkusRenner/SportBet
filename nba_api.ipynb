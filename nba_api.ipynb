{
 "cells": [
  {
   "cell_type": "code",
   "execution_count": 1,
   "metadata": {},
   "outputs": [],
   "source": [
    "from nba_api.stats.endpoints import playercareerstats"
   ]
  },
  {
   "cell_type": "code",
   "execution_count": null,
   "metadata": {},
   "outputs": [],
   "source": [
    "# lib example\n",
    "# Nikola Jokić\n",
    "career = playercareerstats.PlayerCareerStats(player_id='203999') \n",
    "\n",
    "# pandas data frames (optional: pip install pandas)\n",
    "career.get_data_frames()[0]\n",
    "\n",
    "# json\n",
    "career.get_json()\n",
    "\n",
    "# dictionary\n",
    "career.get_dict()"
   ]
  },
  {
   "cell_type": "code",
   "execution_count": 5,
   "metadata": {},
   "outputs": [
    {
     "name": "stdout",
     "output_type": "stream",
     "text": [
      "   PLAYER_ID SEASON_ID LEAGUE_ID     TEAM_ID TEAM_ABBREVIATION  PLAYER_AGE  \\\n",
      "0       2544   2003-04        00  1610612739               CLE        19.0   \n",
      "1       2544   2004-05        00  1610612739               CLE        20.0   \n",
      "2       2544   2005-06        00  1610612739               CLE        21.0   \n",
      "3       2544   2006-07        00  1610612739               CLE        22.0   \n",
      "4       2544   2007-08        00  1610612739               CLE        23.0   \n",
      "\n",
      "   GP  GS     MIN  FGM  ...  FT_PCT  OREB  DREB  REB  AST  STL  BLK  TOV   PF  \\\n",
      "0  79  79  3120.0  622  ...   0.754    99   333  432  465  130   58  273  149   \n",
      "1  80  80  3388.0  795  ...   0.750   111   477  588  577  177   52  262  146   \n",
      "2  79  79  3361.0  875  ...   0.738    75   481  556  521  123   66  260  181   \n",
      "3  78  78  3190.0  772  ...   0.698    83   443  526  470  125   55  250  171   \n",
      "4  75  74  3027.0  794  ...   0.712   133   459  592  539  138   81  255  165   \n",
      "\n",
      "    PTS  \n",
      "0  1654  \n",
      "1  2175  \n",
      "2  2478  \n",
      "3  2132  \n",
      "4  2250  \n",
      "\n",
      "[5 rows x 27 columns]\n"
     ]
    }
   ],
   "source": [
    "from nba_api.stats.endpoints import playercareerstats\n",
    "\n",
    "# Fetch career stats for a specific player (e.g., LeBron James)\n",
    "player_id = 2544  # LeBron James' ID\n",
    "career = playercareerstats.PlayerCareerStats(player_id=player_id)\n",
    "\n",
    "# Convert to DataFrame\n",
    "career_df = career.get_data_frames()[0]\n",
    "print(career_df.head())\n"
   ]
  },
  {
   "cell_type": "code",
   "execution_count": 6,
   "metadata": {},
   "outputs": [
    {
     "name": "stdout",
     "output_type": "stream",
     "text": [
      "  SEASON_ID     TEAM_ID TEAM_ABBREVIATION               TEAM_NAME     GAME_ID  \\\n",
      "0     22022  1610612747               LAL      Los Angeles Lakers  0022200002   \n",
      "1     22022  1610612755               PHI      Philadelphia 76ers  0022200001   \n",
      "2     22022  1610612744               GSW   Golden State Warriors  0022200002   \n",
      "3     22022  1610612738               BOS          Boston Celtics  0022200001   \n",
      "4     22022  1610612750               MIN  Minnesota Timberwolves  0022200010   \n",
      "\n",
      "    GAME_DATE      MATCHUP WL  MIN  FGM  ...  DREB  REB  AST  STL  BLK  TOV  \\\n",
      "0  2022-10-18    LAL @ GSW  L  240   40  ...    39   48   23   12    4   22   \n",
      "1  2022-10-18    PHI @ BOS  L  240   40  ...    27   31   16    8    3   14   \n",
      "2  2022-10-18  GSW vs. LAL  W  240   45  ...    37   48   31   11    4   18   \n",
      "3  2022-10-18  BOS vs. PHI  W  240   46  ...    30   36   24    8    3   11   \n",
      "4  2022-10-19  MIN vs. OKC  W  240   39  ...    41   55   25    6    5   14   \n",
      "\n",
      "   PF  PTS  PLUS_MINUS  VIDEO_AVAILABLE  \n",
      "0  18  109         -14                1  \n",
      "1  25  117          -9                1  \n",
      "2  23  123          14                1  \n",
      "3  24  126           9                1  \n",
      "4  21  115           7                1  \n",
      "\n",
      "[5 rows x 29 columns]\n"
     ]
    }
   ],
   "source": [
    "from nba_api.stats.endpoints import leaguegamelog\n",
    "\n",
    "# Fetch game logs for the 2022-23 season\n",
    "season = '2022-23'\n",
    "\n",
    "game_logs = leaguegamelog.LeagueGameLog(season=season)\n",
    "game_logs_df = game_logs.get_data_frames()[0]\n",
    "print(game_logs_df.head())\n"
   ]
  },
  {
   "cell_type": "code",
   "execution_count": 7,
   "metadata": {},
   "outputs": [
    {
     "name": "stdout",
     "output_type": "stream",
     "text": [
      "  SEASON_ID     TEAM_ID TEAM_ABBREVIATION              TEAM_NAME     GAME_ID  \\\n",
      "0     22020  1610612751               BKN          Brooklyn Nets  0022000001   \n",
      "1     22020  1610612744               GSW  Golden State Warriors  0022000001   \n",
      "2     22020  1610612746               LAC            LA Clippers  0022000002   \n",
      "3     22020  1610612747               LAL     Los Angeles Lakers  0022000002   \n",
      "4     22020  1610612748               MIA             Miami Heat  0022000012   \n",
      "\n",
      "    GAME_DATE      MATCHUP WL  MIN  FGM  ...  DREB  REB  AST  STL  BLK  TOV  \\\n",
      "0  2020-12-22  BKN vs. GSW  W  240   42  ...    44   57   24   11    7   20   \n",
      "1  2020-12-22    GSW @ BKN  L  240   37  ...    34   47   26    6    6   18   \n",
      "2  2020-12-22    LAC @ LAL  W  240   44  ...    29   40   22   10    3   16   \n",
      "3  2020-12-22  LAL vs. LAC  L  240   38  ...    37   45   22    4    2   19   \n",
      "4  2020-12-23    MIA @ ORL  L  240   42  ...    36   43   25   11    2   22   \n",
      "\n",
      "   PF  PTS  PLUS_MINUS  VIDEO_AVAILABLE  \n",
      "0  22  125          26                1  \n",
      "1  24   99         -26                1  \n",
      "2  29  116           7                1  \n",
      "3  20  109          -7                1  \n",
      "4  21  107          -6                1  \n",
      "\n",
      "[5 rows x 29 columns]\n"
     ]
    }
   ],
   "source": [
    "from nba_api.stats.endpoints import leaguegamelog\n",
    "import pandas as pd\n",
    "\n",
    "# Fetch game logs for multiple seasons\n",
    "seasons = ['2020-21', '2021-22', '2022-23']\n",
    "all_games = []\n",
    "\n",
    "for season in seasons:\n",
    "    game_logs = leaguegamelog.LeagueGameLog(season=season)\n",
    "    game_logs_df = game_logs.get_data_frames()[0]\n",
    "    all_games.append(game_logs_df)\n",
    "\n",
    "# Combine data into a single DataFrame\n",
    "historical_games_df = pd.concat(all_games, ignore_index=True)\n",
    "print(historical_games_df.head())\n"
   ]
  },
  {
   "cell_type": "code",
   "execution_count": 8,
   "metadata": {},
   "outputs": [],
   "source": [
    "# Save to CSV\n",
    "historical_games_df.to_csv('nba_historical_games.csv', index=False)\n"
   ]
  }
 ],
 "metadata": {
  "kernelspec": {
   "display_name": "Python 3",
   "language": "python",
   "name": "python3"
  },
  "language_info": {
   "codemirror_mode": {
    "name": "ipython",
    "version": 3
   },
   "file_extension": ".py",
   "mimetype": "text/x-python",
   "name": "python",
   "nbconvert_exporter": "python",
   "pygments_lexer": "ipython3",
   "version": "3.10.2"
  }
 },
 "nbformat": 4,
 "nbformat_minor": 2
}
